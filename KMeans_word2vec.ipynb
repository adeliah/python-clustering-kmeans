{
 "cells": [
  {
   "cell_type": "code",
   "execution_count": 1,
   "metadata": {},
   "outputs": [],
   "source": [
    "## import\n",
    "import pandas as pd\n",
    "from sklearn.cluster import KMeans"
   ]
  },
  {
   "cell_type": "code",
   "execution_count": 6,
   "metadata": {},
   "outputs": [],
   "source": [
    "## read and init data\n",
    "## read and init data\n",
    "# this data vocabs_to_vec_3327-20.csv contains mapping between terms with \n",
    "# its word2vec vector representation (index 2-end).\n",
    "filename = \"data/vocabs_to_vec_3327-20.csv\"\n",
    "datas = pd.read_csv(filename, header=None)\n",
    "\n",
    "\n",
    "voca_labels = list(datas.loc[:,0])\n",
    "vector_rep = datas.loc[:, datas.columns != 0]"
   ]
  },
  {
   "cell_type": "code",
   "execution_count": 16,
   "metadata": {},
   "outputs": [
    {
     "data": {
      "text/plain": [
       "KMeans(algorithm='auto', copy_x=True, init='k-means++', max_iter=300,\n",
       "       n_clusters=10, n_init=10, n_jobs=None, precompute_distances='auto',\n",
       "       random_state=None, tol=0.0001, verbose=0)"
      ]
     },
     "execution_count": 16,
     "metadata": {},
     "output_type": "execute_result"
    }
   ],
   "source": [
    "## init \n",
    "n = 10 #number of cluster\n",
    "cluster_model = KMeans(n)\n",
    "cluster_model.fit(vector_rep)"
   ]
  },
  {
   "cell_type": "code",
   "execution_count": null,
   "metadata": {},
   "outputs": [],
   "source": [
    "## TODO: tune number of cluster"
   ]
  },
  {
   "cell_type": "code",
   "execution_count": 12,
   "metadata": {},
   "outputs": [],
   "source": [
    "## save the results\n",
    "result_filename = \"data/vocabs_to_vec_wcluster_3327-20.csv\"\n",
    "vocabs_to_vec_wcluster = []\n",
    "for i, voca in enumerate(voca_labels):\n",
    "    vocabs_to_vec_wcluster.append([voca] \n",
    "                                  + [cluster_model.labels_[i]] \n",
    "                                  + list(vector_rep.iloc[i]))\n",
    "# pd.DataFrame(vocabs_to_vec_wcluster).to_csv(result_filename)"
   ]
  },
  {
   "cell_type": "code",
   "execution_count": 25,
   "metadata": {},
   "outputs": [],
   "source": [
    "## save centroids with voca index\n",
    "centroids_filename = \"data/centroids_3327-20.csv\"\n",
    "centroids = cluster_model.cluster_centers_\n",
    "pd.DataFrame(centroids).to_csv(centroids_filename)"
   ]
  }
 ],
 "metadata": {
  "kernelspec": {
   "display_name": "Python 3",
   "language": "python",
   "name": "python3"
  },
  "language_info": {
   "codemirror_mode": {
    "name": "ipython",
    "version": 3
   },
   "file_extension": ".py",
   "mimetype": "text/x-python",
   "name": "python",
   "nbconvert_exporter": "python",
   "pygments_lexer": "ipython3",
   "version": "3.7.4"
  }
 },
 "nbformat": 4,
 "nbformat_minor": 4
}
