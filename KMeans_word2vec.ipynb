{
 "cells": [
  {
   "cell_type": "code",
   "execution_count": 1,
   "metadata": {},
   "outputs": [],
   "source": [
    "## import\n",
    "import pandas as pd\n",
    "from sklearn.cluster import KMeans"
   ]
  },
  {
   "cell_type": "code",
   "execution_count": 6,
   "metadata": {},
   "outputs": [],
   "source": [
    "## read and init data\n",
    "## read and init data\n",
    "# this data vocabs_to_vec_3327-20.csv contains mapping between terms with \n",
    "# its word2vec vector representation (index 2-end).\n",
    "filename = \"data/vocabs_to_vec_3327-20.csv\"\n",
    "datas = pd.read_csv(filename, header=None)\n",
    "\n",
    "\n",
    "voca_labels = list(datas.loc[:,0])\n",
    "vector_rep = datas.loc[:, datas.columns != 0]"
   ]
  },
  {
   "cell_type": "code",
   "execution_count": 7,
   "metadata": {},
   "outputs": [
    {
     "data": {
      "text/plain": [
       "KMeans(algorithm='auto', copy_x=True, init='k-means++', max_iter=300,\n",
       "       n_clusters=10, n_init=10, n_jobs=None, precompute_distances='auto',\n",
       "       random_state=None, tol=0.0001, verbose=0)"
      ]
     },
     "execution_count": 7,
     "metadata": {},
     "output_type": "execute_result"
    }
   ],
   "source": [
    "## init \n",
    "n = 10 #number of cluster\n",
    "cluster_model = KMeans(n)\n",
    "cluster_model.fit(vector_rep)"
   ]
  },
  {
   "cell_type": "code",
   "execution_count": 12,
   "metadata": {},
   "outputs": [],
   "source": [
    "## save the results\n",
    "result_filename = \"data/vocabs_to_vec_wcluster_3327-20.csv\"\n",
    "vocabs_to_vec_wcluster = []\n",
    "for i, voca in enumerate(voca_labels):\n",
    "    vocabs_to_vec_wcluster.append([voca] \n",
    "                                  + [cluster_model.labels_[i]] \n",
    "                                  + list(vector_rep.iloc[i]))\n",
    "# pd.DataFrame(vocabs_to_vec_wcluster).to_csv(result_filename)"
   ]
  },
  {
   "cell_type": "code",
   "execution_count": 15,
   "metadata": {},
   "outputs": [
    {
     "data": {
      "text/plain": [
       "[['data',\n",
       "  1,\n",
       "  0.20280626416206401,\n",
       "  -0.127246826887131,\n",
       "  -0.072398342192173,\n",
       "  0.940016150474548,\n",
       "  -0.357829689979553,\n",
       "  1.03883790969849,\n",
       "  0.066632822155953,\n",
       "  0.606580257415772,\n",
       "  0.42979016900062605,\n",
       "  0.4173444211483,\n",
       "  0.266545355319977,\n",
       "  -0.09466221928596501,\n",
       "  -0.479863673448563,\n",
       "  -0.275699108839035,\n",
       "  0.123095005750656,\n",
       "  -0.17861777544021598,\n",
       "  0.38066524267196705,\n",
       "  0.230028390884399,\n",
       "  -0.07675763964653,\n",
       "  -0.21626095473766302],\n",
       " ['mining',\n",
       "  1,\n",
       "  0.354502737522125,\n",
       "  -0.19811315834522303,\n",
       "  -0.7085120677948001,\n",
       "  1.74437463283539,\n",
       "  0.20176950097084,\n",
       "  0.415235966444016,\n",
       "  -0.7600297331810001,\n",
       "  0.5042294263839721,\n",
       "  0.5793473124504089,\n",
       "  -0.387042880058289,\n",
       "  0.09228038787841801,\n",
       "  0.257926881313324,\n",
       "  -0.252172499895096,\n",
       "  0.03830025717616101,\n",
       "  0.6534560322761539,\n",
       "  0.6402953863143921,\n",
       "  0.8248840570449829,\n",
       "  0.538529813289642,\n",
       "  -0.01337881013751,\n",
       "  -1.05240094661713],\n",
       " ['pergerakan',\n",
       "  8,\n",
       "  0.026500018313527,\n",
       "  -0.5889657139778139,\n",
       "  -0.7604292631149291,\n",
       "  0.700219094753265,\n",
       "  0.091361843049526,\n",
       "  0.28495827317237893,\n",
       "  -0.591158986091614,\n",
       "  -0.473279118537903,\n",
       "  0.25267481803894004,\n",
       "  -0.7523254156112671,\n",
       "  0.334754168987274,\n",
       "  -1.14433479309082,\n",
       "  -0.954412400722504,\n",
       "  -0.36359736323356606,\n",
       "  0.642063975334168,\n",
       "  0.247552052140236,\n",
       "  -0.151784777641296,\n",
       "  0.050171665847302004,\n",
       "  0.031486548483372,\n",
       "  0.072146028280258]]"
      ]
     },
     "execution_count": 15,
     "metadata": {},
     "output_type": "execute_result"
    }
   ],
   "source": [
    "vocabs_to_vec_wcluster[:3]"
   ]
  },
  {
   "cell_type": "code",
   "execution_count": null,
   "metadata": {},
   "outputs": [],
   "source": []
  }
 ],
 "metadata": {
  "kernelspec": {
   "display_name": "Python 3",
   "language": "python",
   "name": "python3"
  },
  "language_info": {
   "codemirror_mode": {
    "name": "ipython",
    "version": 3
   },
   "file_extension": ".py",
   "mimetype": "text/x-python",
   "name": "python",
   "nbconvert_exporter": "python",
   "pygments_lexer": "ipython3",
   "version": "3.7.4"
  }
 },
 "nbformat": 4,
 "nbformat_minor": 4
}
